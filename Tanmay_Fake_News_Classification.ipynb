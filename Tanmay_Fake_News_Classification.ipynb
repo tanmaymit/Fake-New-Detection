{
  "nbformat": 4,
  "nbformat_minor": 0,
  "metadata": {
    "colab": {
      "provenance": []
    },
    "kernelspec": {
      "name": "python3",
      "display_name": "Python 3"
    },
    "language_info": {
      "name": "python"
    }
  },
  "cells": [
    {
      "cell_type": "code",
      "execution_count": 1,
      "metadata": {
        "colab": {
          "base_uri": "https://localhost:8080/"
        },
        "id": "5tBXf0P1qzS2",
        "outputId": "d8feb75d-eb3e-4203-e5b6-970abb547755"
      },
      "outputs": [
        {
          "output_type": "stream",
          "name": "stderr",
          "text": [
            "[nltk_data] Downloading package stopwords to /root/nltk_data...\n",
            "[nltk_data]   Unzipping corpora/stopwords.zip.\n"
          ]
        },
        {
          "output_type": "execute_result",
          "data": {
            "text/plain": [
              "True"
            ]
          },
          "metadata": {},
          "execution_count": 1
        }
      ],
      "source": [
        "#Initialising the NLTK package\n",
        "import nltk\n",
        "nltk.download('stopwords')"
      ]
    },
    {
      "cell_type": "code",
      "source": [
        "#Importing fake news detection packages\n",
        "import numpy as np\n",
        "import pandas as pd\n",
        "import re\n",
        "import string\n",
        "from sklearn.tree import DecisionTreeClassifier\n",
        "from sklearn.linear_model import LogisticRegression\n",
        "from sklearn.feature_extraction.text import TfidfVectorizer\n",
        "from sklearn.model_selection import train_test_split\n",
        "from nltk.corpus import stopwords\n",
        "stemmer = nltk.SnowballStemmer(\"english\")\n",
        "stopword=set(stopwords.words('english'))\n",
        "from sklearn.ensemble import GradientBoostingClassifier\n",
        "from sklearn.ensemble import RandomForestClassifier\n",
        "from sklearn.metrics import accuracy_score,  classification_report, mean_squared_error,  mean_absolute_error, confusion_matrix, r2_score"
      ],
      "metadata": {
        "id": "5Osz7DEMrLZd"
      },
      "execution_count": 2,
      "outputs": []
    },
    {
      "cell_type": "code",
      "source": [
        "#Loading the dataset\n",
        "news_dataset = pd.read_csv(r\"/content/Fake_News_Dataset.csv\",encoding='latin1',error_bad_lines=False)"
      ],
      "metadata": {
        "colab": {
          "base_uri": "https://localhost:8080/"
        },
        "id": "NZx7dPj6rW07",
        "outputId": "95389f38-7577-43e3-de2b-0f472c74a56d"
      },
      "execution_count": 3,
      "outputs": [
        {
          "output_type": "stream",
          "name": "stderr",
          "text": [
            "<ipython-input-3-1b20ea574abd>:2: FutureWarning: The error_bad_lines argument has been deprecated and will be removed in a future version. Use on_bad_lines in the future.\n",
            "\n",
            "\n",
            "  news_dataset = pd.read_csv(r\"/content/Fake_News_Dataset.csv\",encoding='latin1',error_bad_lines=False)\n"
          ]
        }
      ]
    },
    {
      "cell_type": "code",
      "source": [
        "#Information of the dataset\n",
        "news_dataset.info()"
      ],
      "metadata": {
        "colab": {
          "base_uri": "https://localhost:8080/"
        },
        "id": "lnnXDgb4tulH",
        "outputId": "42750482-5e32-4017-f3ca-84444f54ec13"
      },
      "execution_count": 4,
      "outputs": [
        {
          "output_type": "stream",
          "name": "stdout",
          "text": [
            "<class 'pandas.core.frame.DataFrame'>\n",
            "RangeIndex: 2201 entries, 0 to 2200\n",
            "Data columns (total 4 columns):\n",
            " #   Column  Non-Null Count  Dtype \n",
            "---  ------  --------------  ----- \n",
            " 0   id      2201 non-null   int64 \n",
            " 1   title   2181 non-null   object\n",
            " 2   text    2201 non-null   object\n",
            " 3   label   2201 non-null   int64 \n",
            "dtypes: int64(2), object(2)\n",
            "memory usage: 68.9+ KB\n"
          ]
        }
      ]
    },
    {
      "cell_type": "code",
      "source": [
        "news_dataset.tail()"
      ],
      "metadata": {
        "colab": {
          "base_uri": "https://localhost:8080/",
          "height": 206
        },
        "id": "pM-0AChGtyTb",
        "outputId": "5f8b0e5f-58d2-47d2-83ff-fccdd9ba4c6c"
      },
      "execution_count": 5,
      "outputs": [
        {
          "output_type": "execute_result",
          "data": {
            "text/plain": [
              "        id                                              title  \\\n",
              "2196  2435  Exclusive: Koch brothers will not use funds to...   \n",
              "2197  2437  Rahm Emanuel Invents New ID to Ensure Illegals...   \n",
              "2198  2438  Veto, filibuster threats ahead of vote next we...   \n",
              "2199  2440  Nancy Reagan remembered at funeral for fierce ...   \n",
              "2200  2444  Republican defends border-adjustment tax after...   \n",
              "\n",
              "                                                   text  label  \n",
              "2196  NEW YORK (Reuters) - The Koch brothers, the mo...      0  \n",
              "2197  Chicago Mayor Rahm Emanuel has moved forward w...      0  \n",
              "2198  The GOP-led Senate is expected to vote next we...      0  \n",
              "2199  SIMI VALLEY, Calif. (Reuters) - First lady Mic...      0  \n",
              "2200  WASHINGTON (Reuters) - A top Republican in Con...      0  "
            ],
            "text/html": [
              "\n",
              "  <div id=\"df-185b75ba-cefc-4588-96eb-3e7391c9a76e\" class=\"colab-df-container\">\n",
              "    <div>\n",
              "<style scoped>\n",
              "    .dataframe tbody tr th:only-of-type {\n",
              "        vertical-align: middle;\n",
              "    }\n",
              "\n",
              "    .dataframe tbody tr th {\n",
              "        vertical-align: top;\n",
              "    }\n",
              "\n",
              "    .dataframe thead th {\n",
              "        text-align: right;\n",
              "    }\n",
              "</style>\n",
              "<table border=\"1\" class=\"dataframe\">\n",
              "  <thead>\n",
              "    <tr style=\"text-align: right;\">\n",
              "      <th></th>\n",
              "      <th>id</th>\n",
              "      <th>title</th>\n",
              "      <th>text</th>\n",
              "      <th>label</th>\n",
              "    </tr>\n",
              "  </thead>\n",
              "  <tbody>\n",
              "    <tr>\n",
              "      <th>2196</th>\n",
              "      <td>2435</td>\n",
              "      <td>Exclusive: Koch brothers will not use funds to...</td>\n",
              "      <td>NEW YORK (Reuters) - The Koch brothers, the mo...</td>\n",
              "      <td>0</td>\n",
              "    </tr>\n",
              "    <tr>\n",
              "      <th>2197</th>\n",
              "      <td>2437</td>\n",
              "      <td>Rahm Emanuel Invents New ID to Ensure Illegals...</td>\n",
              "      <td>Chicago Mayor Rahm Emanuel has moved forward w...</td>\n",
              "      <td>0</td>\n",
              "    </tr>\n",
              "    <tr>\n",
              "      <th>2198</th>\n",
              "      <td>2438</td>\n",
              "      <td>Veto, filibuster threats ahead of vote next we...</td>\n",
              "      <td>The GOP-led Senate is expected to vote next we...</td>\n",
              "      <td>0</td>\n",
              "    </tr>\n",
              "    <tr>\n",
              "      <th>2199</th>\n",
              "      <td>2440</td>\n",
              "      <td>Nancy Reagan remembered at funeral for fierce ...</td>\n",
              "      <td>SIMI VALLEY, Calif. (Reuters) - First lady Mic...</td>\n",
              "      <td>0</td>\n",
              "    </tr>\n",
              "    <tr>\n",
              "      <th>2200</th>\n",
              "      <td>2444</td>\n",
              "      <td>Republican defends border-adjustment tax after...</td>\n",
              "      <td>WASHINGTON (Reuters) - A top Republican in Con...</td>\n",
              "      <td>0</td>\n",
              "    </tr>\n",
              "  </tbody>\n",
              "</table>\n",
              "</div>\n",
              "    <div class=\"colab-df-buttons\">\n",
              "\n",
              "  <div class=\"colab-df-container\">\n",
              "    <button class=\"colab-df-convert\" onclick=\"convertToInteractive('df-185b75ba-cefc-4588-96eb-3e7391c9a76e')\"\n",
              "            title=\"Convert this dataframe to an interactive table.\"\n",
              "            style=\"display:none;\">\n",
              "\n",
              "  <svg xmlns=\"http://www.w3.org/2000/svg\" height=\"24px\" viewBox=\"0 -960 960 960\">\n",
              "    <path d=\"M120-120v-720h720v720H120Zm60-500h600v-160H180v160Zm220 220h160v-160H400v160Zm0 220h160v-160H400v160ZM180-400h160v-160H180v160Zm440 0h160v-160H620v160ZM180-180h160v-160H180v160Zm440 0h160v-160H620v160Z\"/>\n",
              "  </svg>\n",
              "    </button>\n",
              "\n",
              "  <style>\n",
              "    .colab-df-container {\n",
              "      display:flex;\n",
              "      gap: 12px;\n",
              "    }\n",
              "\n",
              "    .colab-df-convert {\n",
              "      background-color: #E8F0FE;\n",
              "      border: none;\n",
              "      border-radius: 50%;\n",
              "      cursor: pointer;\n",
              "      display: none;\n",
              "      fill: #1967D2;\n",
              "      height: 32px;\n",
              "      padding: 0 0 0 0;\n",
              "      width: 32px;\n",
              "    }\n",
              "\n",
              "    .colab-df-convert:hover {\n",
              "      background-color: #E2EBFA;\n",
              "      box-shadow: 0px 1px 2px rgba(60, 64, 67, 0.3), 0px 1px 3px 1px rgba(60, 64, 67, 0.15);\n",
              "      fill: #174EA6;\n",
              "    }\n",
              "\n",
              "    .colab-df-buttons div {\n",
              "      margin-bottom: 4px;\n",
              "    }\n",
              "\n",
              "    [theme=dark] .colab-df-convert {\n",
              "      background-color: #3B4455;\n",
              "      fill: #D2E3FC;\n",
              "    }\n",
              "\n",
              "    [theme=dark] .colab-df-convert:hover {\n",
              "      background-color: #434B5C;\n",
              "      box-shadow: 0px 1px 3px 1px rgba(0, 0, 0, 0.15);\n",
              "      filter: drop-shadow(0px 1px 2px rgba(0, 0, 0, 0.3));\n",
              "      fill: #FFFFFF;\n",
              "    }\n",
              "  </style>\n",
              "\n",
              "    <script>\n",
              "      const buttonEl =\n",
              "        document.querySelector('#df-185b75ba-cefc-4588-96eb-3e7391c9a76e button.colab-df-convert');\n",
              "      buttonEl.style.display =\n",
              "        google.colab.kernel.accessAllowed ? 'block' : 'none';\n",
              "\n",
              "      async function convertToInteractive(key) {\n",
              "        const element = document.querySelector('#df-185b75ba-cefc-4588-96eb-3e7391c9a76e');\n",
              "        const dataTable =\n",
              "          await google.colab.kernel.invokeFunction('convertToInteractive',\n",
              "                                                    [key], {});\n",
              "        if (!dataTable) return;\n",
              "\n",
              "        const docLinkHtml = 'Like what you see? Visit the ' +\n",
              "          '<a target=\"_blank\" href=https://colab.research.google.com/notebooks/data_table.ipynb>data table notebook</a>'\n",
              "          + ' to learn more about interactive tables.';\n",
              "        element.innerHTML = '';\n",
              "        dataTable['output_type'] = 'display_data';\n",
              "        await google.colab.output.renderOutput(dataTable, element);\n",
              "        const docLink = document.createElement('div');\n",
              "        docLink.innerHTML = docLinkHtml;\n",
              "        element.appendChild(docLink);\n",
              "      }\n",
              "    </script>\n",
              "  </div>\n",
              "\n",
              "\n",
              "<div id=\"df-1371d4b0-63e6-4192-9253-c618e887f2a0\">\n",
              "  <button class=\"colab-df-quickchart\" onclick=\"quickchart('df-1371d4b0-63e6-4192-9253-c618e887f2a0')\"\n",
              "            title=\"Suggest charts.\"\n",
              "            style=\"display:none;\">\n",
              "\n",
              "<svg xmlns=\"http://www.w3.org/2000/svg\" height=\"24px\"viewBox=\"0 0 24 24\"\n",
              "     width=\"24px\">\n",
              "    <g>\n",
              "        <path d=\"M19 3H5c-1.1 0-2 .9-2 2v14c0 1.1.9 2 2 2h14c1.1 0 2-.9 2-2V5c0-1.1-.9-2-2-2zM9 17H7v-7h2v7zm4 0h-2V7h2v10zm4 0h-2v-4h2v4z\"/>\n",
              "    </g>\n",
              "</svg>\n",
              "  </button>\n",
              "\n",
              "<style>\n",
              "  .colab-df-quickchart {\n",
              "    background-color: #E8F0FE;\n",
              "    border: none;\n",
              "    border-radius: 50%;\n",
              "    cursor: pointer;\n",
              "    display: none;\n",
              "    fill: #1967D2;\n",
              "    height: 32px;\n",
              "    padding: 0 0 0 0;\n",
              "    width: 32px;\n",
              "  }\n",
              "\n",
              "  .colab-df-quickchart:hover {\n",
              "    background-color: #E2EBFA;\n",
              "    box-shadow: 0px 1px 2px rgba(60, 64, 67, 0.3), 0px 1px 3px 1px rgba(60, 64, 67, 0.15);\n",
              "    fill: #174EA6;\n",
              "  }\n",
              "\n",
              "  [theme=dark] .colab-df-quickchart {\n",
              "    background-color: #3B4455;\n",
              "    fill: #D2E3FC;\n",
              "  }\n",
              "\n",
              "  [theme=dark] .colab-df-quickchart:hover {\n",
              "    background-color: #434B5C;\n",
              "    box-shadow: 0px 1px 3px 1px rgba(0, 0, 0, 0.15);\n",
              "    filter: drop-shadow(0px 1px 2px rgba(0, 0, 0, 0.3));\n",
              "    fill: #FFFFFF;\n",
              "  }\n",
              "</style>\n",
              "\n",
              "  <script>\n",
              "    async function quickchart(key) {\n",
              "      const charts = await google.colab.kernel.invokeFunction(\n",
              "          'suggestCharts', [key], {});\n",
              "    }\n",
              "    (() => {\n",
              "      let quickchartButtonEl =\n",
              "        document.querySelector('#df-1371d4b0-63e6-4192-9253-c618e887f2a0 button');\n",
              "      quickchartButtonEl.style.display =\n",
              "        google.colab.kernel.accessAllowed ? 'block' : 'none';\n",
              "    })();\n",
              "  </script>\n",
              "</div>\n",
              "    </div>\n",
              "  </div>\n"
            ]
          },
          "metadata": {},
          "execution_count": 5
        }
      ]
    },
    {
      "cell_type": "code",
      "source": [
        "#Data pre-processing step\n",
        "def data_preprcss(text):\n",
        "    text = re.sub('\\[.*?\\]', '', text)\n",
        "    text = re.sub('@', '', text)\n",
        "    text = re.sub('[%s]' % re.escape(string.punctuation), '', text)\n",
        "    text = re.sub('\\w*\\d\\w*', '', text)\n",
        "    text = re.sub('https?://\\S+|www\\.\\S+', '', text)\n",
        "    text = re.sub('\\n', '', text)\n",
        "    text = re.sub('<.*?>+', '', text)\n",
        "    text = str(text).lower()\n",
        "    text = [word for word in text.split(' ') if word not in stopword]\n",
        "    text=\" \".join(text)\n",
        "    text = [stemmer.stem(word) for word in text.split(' ')]\n",
        "    text=\" \".join(text)\n",
        "    return text"
      ],
      "metadata": {
        "id": "4P38j1g-t1cF"
      },
      "execution_count": 7,
      "outputs": []
    },
    {
      "cell_type": "code",
      "source": [
        "#Applying Data pre-processing function to clean the data\n",
        "news_dataset[\"text\"] = news_dataset[\"text\"].apply(data_preprcss)"
      ],
      "metadata": {
        "id": "8w-t4tdPuERv"
      },
      "execution_count": 8,
      "outputs": []
    },
    {
      "cell_type": "code",
      "source": [
        "#Assigning feature and target variables\n",
        "ftr = news_dataset[\"text\"]\n",
        "tar = news_dataset[\"label\"]"
      ],
      "metadata": {
        "id": "Sbeu7sHPuN7K"
      },
      "execution_count": 9,
      "outputs": []
    },
    {
      "cell_type": "code",
      "source": [
        "#Divide the dataset into training and test data\n",
        "X_train, X_test, Y_train, Y_test = train_test_split(ftr,tar, test_size=0.20)"
      ],
      "metadata": {
        "id": "1Vi1EaG_uV3p"
      },
      "execution_count": 10,
      "outputs": []
    },
    {
      "cell_type": "code",
      "source": [
        "#Converting the text data into vectorized form\n",
        "vctr = TfidfVectorizer()\n",
        "XVect_train = vctr.fit_transform(X_train)\n",
        "XVect_test = vctr.transform(X_test)"
      ],
      "metadata": {
        "id": "_L3K5p83uZnp"
      },
      "execution_count": 11,
      "outputs": []
    },
    {
      "cell_type": "code",
      "source": [
        "#Replace NA for target data by 0\n",
        "Y_train=Y_train.fillna(0)\n",
        "Y_test=Y_test.fillna(0)"
      ],
      "metadata": {
        "id": "MftYC6LZufuw"
      },
      "execution_count": 12,
      "outputs": []
    },
    {
      "cell_type": "code",
      "source": [
        "#Decision Tree classifier\n",
        "import warnings\n",
        "with warnings.catch_warnings(record=True):\n",
        "    modl1 =DecisionTreeClassifier()\n",
        "    modl1.fit(XVect_train, Y_train)\n",
        "    Y_prdc1 = modl1.predict(XVect_test)\n",
        "    print('Classification Report for Decision Tree classifier-> \\n', classification_report(Y_test, Y_prdc1))\n",
        "    print('R-squared score for Decision Tree classifier->',r2_score(Y_test, Y_prdc1))\n",
        "    print('Mean Absolute Error for Decision Tree classifier->', mean_absolute_error(Y_test, Y_prdc1))\n",
        "    print('Root Mean Squared Error for Decision Tree classifier->', np.sqrt(mean_squared_error(Y_test, Y_prdc1)))"
      ],
      "metadata": {
        "colab": {
          "base_uri": "https://localhost:8080/"
        },
        "id": "c5C4wlXnuili",
        "outputId": "692aff6a-c55c-4538-def3-81b672ea90cc"
      },
      "execution_count": 14,
      "outputs": [
        {
          "output_type": "stream",
          "name": "stdout",
          "text": [
            "Classification Report for Decision Tree classifier-> \n",
            "               precision    recall  f1-score   support\n",
            "\n",
            "           0       0.85      0.90      0.88       235\n",
            "           1       0.88      0.82      0.85       206\n",
            "\n",
            "    accuracy                           0.86       441\n",
            "   macro avg       0.87      0.86      0.86       441\n",
            "weighted avg       0.86      0.86      0.86       441\n",
            "\n",
            "R-squared score for Decision Tree classifier-> 0.4534187151414998\n",
            "Mean Absolute Error for Decision Tree classifier-> 0.1360544217687075\n",
            "Root Mean Squared Error for Decision Tree classifier-> 0.36885555678165877\n"
          ]
        }
      ]
    },
    {
      "cell_type": "code",
      "source": [
        "#Random Forest classifier\n",
        "import warnings\n",
        "with warnings.catch_warnings(record=True):\n",
        "    modl2 =RandomForestClassifier()\n",
        "    modl2.fit(XVect_train, Y_train)\n",
        "    Y_prdc2 = modl2.predict(XVect_test)\n",
        "    print('Classification Report for Random Forest classifier-> \\n', classification_report(Y_test, Y_prdc2))\n",
        "    print('R-squared score for Random Forest classifier->',r2_score(Y_test, Y_prdc2))\n",
        "    print('Mean Absolute Error for Random Forest classifier->', mean_absolute_error(Y_test, Y_prdc2))\n",
        "    print('Root Mean Squared Error for Random Forest classifier->', np.sqrt(mean_squared_error(Y_test, Y_prdc2)))"
      ],
      "metadata": {
        "colab": {
          "base_uri": "https://localhost:8080/"
        },
        "id": "M8hc7i4Vu0Si",
        "outputId": "18cd1b1b-b5bc-461f-e1d4-ce7339279da6"
      },
      "execution_count": 15,
      "outputs": [
        {
          "output_type": "stream",
          "name": "stdout",
          "text": [
            "Classification Report for Random Forest classifier-> \n",
            "               precision    recall  f1-score   support\n",
            "\n",
            "           0       0.83      0.92      0.88       235\n",
            "           1       0.90      0.79      0.84       206\n",
            "\n",
            "    accuracy                           0.86       441\n",
            "   macro avg       0.87      0.86      0.86       441\n",
            "weighted avg       0.87      0.86      0.86       441\n",
            "\n",
            "R-squared score for Random Forest classifier-> 0.4443090270605248\n",
            "Mean Absolute Error for Random Forest classifier-> 0.1383219954648526\n",
            "Root Mean Squared Error for Random Forest classifier-> 0.3719166512336502\n"
          ]
        }
      ]
    },
    {
      "cell_type": "code",
      "source": [
        "#Logistic Regression classifier\n",
        "import warnings\n",
        "with warnings.catch_warnings(record=True):\n",
        "    modl3 =LogisticRegression()\n",
        "    modl3.fit(XVect_train, Y_train)\n",
        "    Y_prdc3 = modl3.predict(XVect_test)\n",
        "    print('Classification Report for Logistic Regression classifier-> \\n', classification_report(Y_test, Y_prdc3))\n",
        "    print('R-squared score for Logistic Regression classifier->',r2_score(Y_test, Y_prdc3))\n",
        "    print('Mean Absolute Error for Logistic Regression classifier->', mean_absolute_error(Y_test, Y_prdc3))\n",
        "    print('Root Mean Squared Error for Logistic Regression classifier->', np.sqrt(mean_squared_error(Y_test, Y_prdc3)))"
      ],
      "metadata": {
        "colab": {
          "base_uri": "https://localhost:8080/"
        },
        "id": "RQJJb7SZvFeK",
        "outputId": "bf25dc1b-e24c-4786-cec2-b74f43757b3b"
      },
      "execution_count": 16,
      "outputs": [
        {
          "output_type": "stream",
          "name": "stdout",
          "text": [
            "Classification Report for Logistic Regression classifier-> \n",
            "               precision    recall  f1-score   support\n",
            "\n",
            "           0       0.87      0.89      0.88       235\n",
            "           1       0.87      0.84      0.86       206\n",
            "\n",
            "    accuracy                           0.87       441\n",
            "   macro avg       0.87      0.86      0.87       441\n",
            "weighted avg       0.87      0.87      0.87       441\n",
            "\n",
            "R-squared score for Logistic Regression classifier-> 0.4625284032224748\n",
            "Mean Absolute Error for Logistic Regression classifier-> 0.13378684807256236\n",
            "Root Mean Squared Error for Logistic Regression classifier-> 0.3657688451366004\n"
          ]
        }
      ]
    },
    {
      "cell_type": "code",
      "source": [
        "#Gradient Boosting classifier\n",
        "import warnings\n",
        "with warnings.catch_warnings(record=True):\n",
        "    modl4 =GradientBoostingClassifier()\n",
        "    modl4.fit(XVect_train, Y_train)\n",
        "    Y_prdc4 = modl4.predict(XVect_test)\n",
        "    print('Classification Report for Gradient Boosting classifier-> \\n', classification_report(Y_test, Y_prdc4))\n",
        "    print('R-squared score for Gradient Boosting classifier->',r2_score(Y_test, Y_prdc4))\n",
        "    print('Mean Absolute Error for Gradient Boosting classifier->', mean_absolute_error(Y_test, Y_prdc4))\n",
        "    print('Root Mean Squared Error for Gradient Boosting classifier->', np.sqrt(mean_squared_error(Y_test, Y_prdc4)))"
      ],
      "metadata": {
        "colab": {
          "base_uri": "https://localhost:8080/"
        },
        "id": "oiZld2_KvTsC",
        "outputId": "748397a2-d3cd-4739-8d16-e9213308cf14"
      },
      "execution_count": 17,
      "outputs": [
        {
          "output_type": "stream",
          "name": "stdout",
          "text": [
            "Classification Report for Gradient Boosting classifier-> \n",
            "               precision    recall  f1-score   support\n",
            "\n",
            "           0       0.94      0.92      0.93       235\n",
            "           1       0.91      0.93      0.92       206\n",
            "\n",
            "    accuracy                           0.93       441\n",
            "   macro avg       0.92      0.93      0.92       441\n",
            "weighted avg       0.93      0.93      0.93       441\n",
            "\n",
            "R-squared score for Gradient Boosting classifier-> 0.6993802933278249\n",
            "Mean Absolute Error for Gradient Boosting classifier-> 0.07482993197278912\n",
            "Root Mean Squared Error for Gradient Boosting classifier-> 0.2735506022160966\n"
          ]
        }
      ]
    },
    {
      "cell_type": "code",
      "source": [],
      "metadata": {
        "id": "-PAFn7SxviqU"
      },
      "execution_count": null,
      "outputs": []
    }
  ]
}